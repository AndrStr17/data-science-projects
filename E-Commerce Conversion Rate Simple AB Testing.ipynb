{
 "cells": [
  {
   "cell_type": "markdown",
   "metadata": {},
   "source": [
    "**E-Commerce Conversion Rate: Simple A/B Testing**"
   ]
  },
  {
   "cell_type": "code",
   "execution_count": 41,
   "metadata": {},
   "outputs": [],
   "source": [
    "### Importing necessary modules: \n",
    "import pandas as pd \n",
    "from statsmodels.stats.proportion import proportions_ztest "
   ]
  },
  {
   "cell_type": "markdown",
   "metadata": {},
   "source": [
    "**Data review and preparation**"
   ]
  },
  {
   "cell_type": "code",
   "execution_count": 42,
   "metadata": {},
   "outputs": [
    {
     "data": {
      "text/html": [
       "<div>\n",
       "<style scoped>\n",
       "    .dataframe tbody tr th:only-of-type {\n",
       "        vertical-align: middle;\n",
       "    }\n",
       "\n",
       "    .dataframe tbody tr th {\n",
       "        vertical-align: top;\n",
       "    }\n",
       "\n",
       "    .dataframe thead th {\n",
       "        text-align: right;\n",
       "    }\n",
       "</style>\n",
       "<table border=\"1\" class=\"dataframe\">\n",
       "  <thead>\n",
       "    <tr style=\"text-align: right;\">\n",
       "      <th></th>\n",
       "      <th>id</th>\n",
       "      <th>time</th>\n",
       "      <th>con_treat</th>\n",
       "      <th>page</th>\n",
       "      <th>converted</th>\n",
       "    </tr>\n",
       "  </thead>\n",
       "  <tbody>\n",
       "    <tr>\n",
       "      <th>0</th>\n",
       "      <td>851104</td>\n",
       "      <td>11:48.6</td>\n",
       "      <td>control</td>\n",
       "      <td>old_page</td>\n",
       "      <td>0</td>\n",
       "    </tr>\n",
       "    <tr>\n",
       "      <th>1</th>\n",
       "      <td>804228</td>\n",
       "      <td>01:45.2</td>\n",
       "      <td>control</td>\n",
       "      <td>old_page</td>\n",
       "      <td>0</td>\n",
       "    </tr>\n",
       "    <tr>\n",
       "      <th>2</th>\n",
       "      <td>661590</td>\n",
       "      <td>55:06.2</td>\n",
       "      <td>treatment</td>\n",
       "      <td>new_page</td>\n",
       "      <td>0</td>\n",
       "    </tr>\n",
       "    <tr>\n",
       "      <th>3</th>\n",
       "      <td>853541</td>\n",
       "      <td>28:03.1</td>\n",
       "      <td>treatment</td>\n",
       "      <td>new_page</td>\n",
       "      <td>0</td>\n",
       "    </tr>\n",
       "    <tr>\n",
       "      <th>4</th>\n",
       "      <td>864975</td>\n",
       "      <td>52:26.2</td>\n",
       "      <td>control</td>\n",
       "      <td>old_page</td>\n",
       "      <td>1</td>\n",
       "    </tr>\n",
       "  </tbody>\n",
       "</table>\n",
       "</div>"
      ],
      "text/plain": [
       "       id     time  con_treat      page  converted\n",
       "0  851104  11:48.6    control  old_page          0\n",
       "1  804228  01:45.2    control  old_page          0\n",
       "2  661590  55:06.2  treatment  new_page          0\n",
       "3  853541  28:03.1  treatment  new_page          0\n",
       "4  864975  52:26.2    control  old_page          1"
      ]
     },
     "execution_count": 42,
     "metadata": {},
     "output_type": "execute_result"
    }
   ],
   "source": [
    "df_0 = pd.read_csv('ab_test.csv')  # Main A/B test dataset\n",
    "df_1 = pd.read_csv('countries_ab.csv')  # Dataset containing user countries\n",
    "\n",
    "df_0.head()  # Display the first few rows of the main dataset"
   ]
  },
  {
   "cell_type": "code",
   "execution_count": 43,
   "metadata": {},
   "outputs": [
    {
     "data": {
      "text/html": [
       "<div>\n",
       "<style scoped>\n",
       "    .dataframe tbody tr th:only-of-type {\n",
       "        vertical-align: middle;\n",
       "    }\n",
       "\n",
       "    .dataframe tbody tr th {\n",
       "        vertical-align: top;\n",
       "    }\n",
       "\n",
       "    .dataframe thead th {\n",
       "        text-align: right;\n",
       "    }\n",
       "</style>\n",
       "<table border=\"1\" class=\"dataframe\">\n",
       "  <thead>\n",
       "    <tr style=\"text-align: right;\">\n",
       "      <th></th>\n",
       "      <th>id</th>\n",
       "      <th>country</th>\n",
       "    </tr>\n",
       "  </thead>\n",
       "  <tbody>\n",
       "    <tr>\n",
       "      <th>0</th>\n",
       "      <td>834778</td>\n",
       "      <td>UK</td>\n",
       "    </tr>\n",
       "    <tr>\n",
       "      <th>1</th>\n",
       "      <td>928468</td>\n",
       "      <td>US</td>\n",
       "    </tr>\n",
       "    <tr>\n",
       "      <th>2</th>\n",
       "      <td>822059</td>\n",
       "      <td>UK</td>\n",
       "    </tr>\n",
       "    <tr>\n",
       "      <th>3</th>\n",
       "      <td>711597</td>\n",
       "      <td>UK</td>\n",
       "    </tr>\n",
       "    <tr>\n",
       "      <th>4</th>\n",
       "      <td>710616</td>\n",
       "      <td>UK</td>\n",
       "    </tr>\n",
       "  </tbody>\n",
       "</table>\n",
       "</div>"
      ],
      "text/plain": [
       "       id country\n",
       "0  834778      UK\n",
       "1  928468      US\n",
       "2  822059      UK\n",
       "3  711597      UK\n",
       "4  710616      UK"
      ]
     },
     "execution_count": 43,
     "metadata": {},
     "output_type": "execute_result"
    }
   ],
   "source": [
    "df_1.head()  # Display the first few rows of the dataset with user countries "
   ]
  },
  {
   "cell_type": "code",
   "execution_count": 44,
   "metadata": {},
   "outputs": [
    {
     "data": {
      "text/html": [
       "<div>\n",
       "<style scoped>\n",
       "    .dataframe tbody tr th:only-of-type {\n",
       "        vertical-align: middle;\n",
       "    }\n",
       "\n",
       "    .dataframe tbody tr th {\n",
       "        vertical-align: top;\n",
       "    }\n",
       "\n",
       "    .dataframe thead th {\n",
       "        text-align: right;\n",
       "    }\n",
       "</style>\n",
       "<table border=\"1\" class=\"dataframe\">\n",
       "  <thead>\n",
       "    <tr style=\"text-align: right;\">\n",
       "      <th></th>\n",
       "      <th>id</th>\n",
       "      <th>time</th>\n",
       "      <th>con_treat</th>\n",
       "      <th>page</th>\n",
       "      <th>converted</th>\n",
       "      <th>country</th>\n",
       "    </tr>\n",
       "  </thead>\n",
       "  <tbody>\n",
       "    <tr>\n",
       "      <th>0</th>\n",
       "      <td>851104</td>\n",
       "      <td>11:48.6</td>\n",
       "      <td>control</td>\n",
       "      <td>old_page</td>\n",
       "      <td>0</td>\n",
       "      <td>US</td>\n",
       "    </tr>\n",
       "    <tr>\n",
       "      <th>1</th>\n",
       "      <td>804228</td>\n",
       "      <td>01:45.2</td>\n",
       "      <td>control</td>\n",
       "      <td>old_page</td>\n",
       "      <td>0</td>\n",
       "      <td>US</td>\n",
       "    </tr>\n",
       "    <tr>\n",
       "      <th>2</th>\n",
       "      <td>661590</td>\n",
       "      <td>55:06.2</td>\n",
       "      <td>treatment</td>\n",
       "      <td>new_page</td>\n",
       "      <td>0</td>\n",
       "      <td>US</td>\n",
       "    </tr>\n",
       "    <tr>\n",
       "      <th>3</th>\n",
       "      <td>853541</td>\n",
       "      <td>28:03.1</td>\n",
       "      <td>treatment</td>\n",
       "      <td>new_page</td>\n",
       "      <td>0</td>\n",
       "      <td>US</td>\n",
       "    </tr>\n",
       "    <tr>\n",
       "      <th>4</th>\n",
       "      <td>864975</td>\n",
       "      <td>52:26.2</td>\n",
       "      <td>control</td>\n",
       "      <td>old_page</td>\n",
       "      <td>1</td>\n",
       "      <td>US</td>\n",
       "    </tr>\n",
       "  </tbody>\n",
       "</table>\n",
       "</div>"
      ],
      "text/plain": [
       "       id     time  con_treat      page  converted country\n",
       "0  851104  11:48.6    control  old_page          0      US\n",
       "1  804228  01:45.2    control  old_page          0      US\n",
       "2  661590  55:06.2  treatment  new_page          0      US\n",
       "3  853541  28:03.1  treatment  new_page          0      US\n",
       "4  864975  52:26.2    control  old_page          1      US"
      ]
     },
     "execution_count": 44,
     "metadata": {},
     "output_type": "execute_result"
    }
   ],
   "source": [
    "df = pd.merge(df_0, df_1, on='id')  # Merge main dataset with user countries by primary key 'id' and save the result to 'df'\n",
    "df.head()  # Display the first few rows of the merged dataset"
   ]
  },
  {
   "cell_type": "markdown",
   "metadata": {},
   "source": [
    "Display general information about the DataFrame, including column names, data types, and missing values."
   ]
  },
  {
   "cell_type": "code",
   "execution_count": 45,
   "metadata": {},
   "outputs": [
    {
     "name": "stdout",
     "output_type": "stream",
     "text": [
      "DataFrame shape: (294478, 6)\n",
      "____________________________\n",
      "Information about data:\n",
      "<class 'pandas.core.frame.DataFrame'>\n",
      "RangeIndex: 294478 entries, 0 to 294477\n",
      "Data columns (total 6 columns):\n",
      " #   Column     Non-Null Count   Dtype \n",
      "---  ------     --------------   ----- \n",
      " 0   id         294478 non-null  int64 \n",
      " 1   time       294478 non-null  object\n",
      " 2   con_treat  294478 non-null  object\n",
      " 3   page       294478 non-null  object\n",
      " 4   converted  294478 non-null  int64 \n",
      " 5   country    294478 non-null  object\n",
      "dtypes: int64(2), object(4)\n",
      "memory usage: 13.5+ MB\n",
      "None\n",
      "____________________________\n",
      "Missing values:\n",
      "id           0\n",
      "time         0\n",
      "con_treat    0\n",
      "page         0\n",
      "converted    0\n",
      "country      0\n",
      "dtype: int64\n"
     ]
    }
   ],
   "source": [
    "print('DataFrame shape:', df.shape)\n",
    "print('____________________________') \n",
    "print('Information about data:')\n",
    "print(df.info()) \n",
    "print('____________________________') \n",
    "print('Missing values:') \n",
    "print(df.isna().sum())"
   ]
  },
  {
   "cell_type": "markdown",
   "metadata": {},
   "source": [
    "I want to compare the number of rows with the number of unique user IDs."
   ]
  },
  {
   "cell_type": "code",
   "execution_count": 46,
   "metadata": {},
   "outputs": [
    {
     "data": {
      "text/plain": [
       "id           290584\n",
       "time          35993\n",
       "con_treat         2\n",
       "page              2\n",
       "converted         2\n",
       "country           3\n",
       "dtype: int64"
      ]
     },
     "execution_count": 46,
     "metadata": {},
     "output_type": "execute_result"
    }
   ],
   "source": [
    "df.nunique() # display the number of unique values for each column"
   ]
  },
  {
   "cell_type": "markdown",
   "metadata": {},
   "source": [
    "There are duplicates in the 'id' column. I will drop these duplicates because they might be mistakes. Dropping some rows is not critical, as the dataset is quite large."
   ]
  },
  {
   "cell_type": "code",
   "execution_count": 47,
   "metadata": {},
   "outputs": [
    {
     "name": "stdout",
     "output_type": "stream",
     "text": [
      "Number of rows without duplicates - 290584\n"
     ]
    }
   ],
   "source": [
    "df_ = df.drop_duplicates(subset='id') \n",
    "print('Number of rows without duplicates -', df_.shape[0])"
   ]
  },
  {
   "cell_type": "markdown",
   "metadata": {},
   "source": [
    "Then it's important to research whether the user groups match the page version."
   ]
  },
  {
   "cell_type": "code",
   "execution_count": 48,
   "metadata": {},
   "outputs": [
    {
     "name": "stdout",
     "output_type": "stream",
     "text": [
      "Number of wrong rows - 2044\n"
     ]
    },
    {
     "data": {
      "text/html": [
       "<div>\n",
       "<style scoped>\n",
       "    .dataframe tbody tr th:only-of-type {\n",
       "        vertical-align: middle;\n",
       "    }\n",
       "\n",
       "    .dataframe tbody tr th {\n",
       "        vertical-align: top;\n",
       "    }\n",
       "\n",
       "    .dataframe thead th {\n",
       "        text-align: right;\n",
       "    }\n",
       "</style>\n",
       "<table border=\"1\" class=\"dataframe\">\n",
       "  <thead>\n",
       "    <tr style=\"text-align: right;\">\n",
       "      <th></th>\n",
       "      <th>id</th>\n",
       "      <th>time</th>\n",
       "      <th>con_treat</th>\n",
       "      <th>page</th>\n",
       "      <th>converted</th>\n",
       "      <th>country</th>\n",
       "    </tr>\n",
       "  </thead>\n",
       "  <tbody>\n",
       "    <tr>\n",
       "      <th>282645</th>\n",
       "      <td>717723</td>\n",
       "      <td>43:58.1</td>\n",
       "      <td>treatment</td>\n",
       "      <td>old_page</td>\n",
       "      <td>0</td>\n",
       "      <td>US</td>\n",
       "    </tr>\n",
       "    <tr>\n",
       "      <th>282950</th>\n",
       "      <td>778907</td>\n",
       "      <td>54:16.6</td>\n",
       "      <td>control</td>\n",
       "      <td>new_page</td>\n",
       "      <td>0</td>\n",
       "      <td>US</td>\n",
       "    </tr>\n",
       "    <tr>\n",
       "      <th>285987</th>\n",
       "      <td>914482</td>\n",
       "      <td>55:40.1</td>\n",
       "      <td>treatment</td>\n",
       "      <td>old_page</td>\n",
       "      <td>0</td>\n",
       "      <td>UK</td>\n",
       "    </tr>\n",
       "    <tr>\n",
       "      <th>286353</th>\n",
       "      <td>767924</td>\n",
       "      <td>48:53.4</td>\n",
       "      <td>treatment</td>\n",
       "      <td>old_page</td>\n",
       "      <td>0</td>\n",
       "      <td>US</td>\n",
       "    </tr>\n",
       "    <tr>\n",
       "      <th>287469</th>\n",
       "      <td>921581</td>\n",
       "      <td>11:58.6</td>\n",
       "      <td>treatment</td>\n",
       "      <td>old_page</td>\n",
       "      <td>0</td>\n",
       "      <td>US</td>\n",
       "    </tr>\n",
       "  </tbody>\n",
       "</table>\n",
       "</div>"
      ],
      "text/plain": [
       "            id     time  con_treat      page  converted country\n",
       "282645  717723  43:58.1  treatment  old_page          0      US\n",
       "282950  778907  54:16.6    control  new_page          0      US\n",
       "285987  914482  55:40.1  treatment  old_page          0      UK\n",
       "286353  767924  48:53.4  treatment  old_page          0      US\n",
       "287469  921581  11:58.6  treatment  old_page          0      US"
      ]
     },
     "execution_count": 48,
     "metadata": {},
     "output_type": "execute_result"
    }
   ],
   "source": [
    "mistakes = df_[ \n",
    "    (\n",
    "        ((df_['con_treat'] == 'control') & (df_['page'] == 'new_page')) | \n",
    "        ((df_['con_treat'] == 'treatment') & (df_['page'] == 'old_page'))\n",
    "    )\n",
    "]\n",
    "print('Number of wrong rows -', mistakes.shape[0])\n",
    "mistakes.tail()  # show how it looks like"
   ]
  },
  {
   "cell_type": "code",
   "execution_count": 49,
   "metadata": {},
   "outputs": [
    {
     "name": "stdout",
     "output_type": "stream",
     "text": [
      "Number of rows without mistakes - 288540\n"
     ]
    }
   ],
   "source": [
    "df_clear = df_[ # creating clean DataFrame \n",
    "    (\n",
    "        ((df_['con_treat'] == 'control') & (df_['page'] != 'new_page')) | \n",
    "        ((df_['con_treat'] == 'treatment') & (df_['page'] != 'old_page')) \n",
    "    )\n",
    "]\n",
    "print('Number of rows without mistakes -', df_clear.shape[0]) "
   ]
  },
  {
   "cell_type": "markdown",
   "metadata": {},
   "source": [
    "Besides testing the full dataset, I would like to test samples separated by country."
   ]
  },
  {
   "cell_type": "code",
   "execution_count": 50,
   "metadata": {},
   "outputs": [
    {
     "name": "stdout",
     "output_type": "stream",
     "text": [
      "202185 - number of users from US\n",
      "14394 - number of users from CA\n",
      "71961 - number of users from UK\n"
     ]
    }
   ],
   "source": [
    "samples = [df_clear[df_clear['country'] == i] for i in df_clear['country'].unique()]  # Create a list of samples, one for each country\n",
    "\n",
    "for sample in samples:  # Show the number of users in each country\n",
    "    print(sample.shape[0], '- number of users from', sample['country'].unique()[0])"
   ]
  },
  {
   "cell_type": "markdown",
   "metadata": {},
   "source": [
    "**A/B Testing**"
   ]
  },
  {
   "cell_type": "code",
   "execution_count": 51,
   "metadata": {},
   "outputs": [
    {
     "data": {
      "text/html": [
       "<div>\n",
       "<style scoped>\n",
       "    .dataframe tbody tr th:only-of-type {\n",
       "        vertical-align: middle;\n",
       "    }\n",
       "\n",
       "    .dataframe tbody tr th {\n",
       "        vertical-align: top;\n",
       "    }\n",
       "\n",
       "    .dataframe thead th {\n",
       "        text-align: right;\n",
       "    }\n",
       "</style>\n",
       "<table border=\"1\" class=\"dataframe\">\n",
       "  <thead>\n",
       "    <tr style=\"text-align: right;\">\n",
       "      <th></th>\n",
       "      <th>sample</th>\n",
       "      <th>z_stat</th>\n",
       "      <th>p_value</th>\n",
       "      <th>A/B test result</th>\n",
       "    </tr>\n",
       "  </thead>\n",
       "  <tbody>\n",
       "    <tr>\n",
       "      <th>0</th>\n",
       "      <td>US</td>\n",
       "      <td>1.467193</td>\n",
       "      <td>0.142324</td>\n",
       "      <td>No difference between groups</td>\n",
       "    </tr>\n",
       "    <tr>\n",
       "      <th>0</th>\n",
       "      <td>CA</td>\n",
       "      <td>1.320795</td>\n",
       "      <td>0.186570</td>\n",
       "      <td>No difference between groups</td>\n",
       "    </tr>\n",
       "    <tr>\n",
       "      <th>0</th>\n",
       "      <td>UK</td>\n",
       "      <td>-0.455738</td>\n",
       "      <td>0.648578</td>\n",
       "      <td>No difference between groups</td>\n",
       "    </tr>\n",
       "    <tr>\n",
       "      <th>0</th>\n",
       "      <td>general_population</td>\n",
       "      <td>1.294237</td>\n",
       "      <td>0.195584</td>\n",
       "      <td>No difference between groups</td>\n",
       "    </tr>\n",
       "  </tbody>\n",
       "</table>\n",
       "</div>"
      ],
      "text/plain": [
       "               sample    z_stat   p_value               A/B test result\n",
       "0                  US  1.467193  0.142324  No difference between groups\n",
       "0                  CA  1.320795  0.186570  No difference between groups\n",
       "0                  UK -0.455738  0.648578  No difference between groups\n",
       "0  general_population  1.294237  0.195584  No difference between groups"
      ]
     },
     "execution_count": 51,
     "metadata": {},
     "output_type": "execute_result"
    }
   ],
   "source": [
    "def ztest(data, sample): \n",
    "    ''' \n",
    "    Function to perform Z-test for any case: \n",
    "    general population or country sample\n",
    "    '''\n",
    "    \n",
    "    H0 = \"No difference between groups\"  # null hypothesis\n",
    "    H1 = \"Groups have differences\"  # alternative hypothesis\n",
    "    alpha_ = 0.05  # critical value for the probability of the Z-statistic\n",
    "    \n",
    "    # Separating groups\n",
    "    control_group = data[data['con_treat'] == 'control']\n",
    "    test_group = data[data['con_treat'] == 'treatment']\n",
    "    \n",
    "    # Summing conversions for each group\n",
    "    control_conversions = control_group['converted'].sum()\n",
    "    test_conversions = test_group['converted'].sum()\n",
    "    \n",
    "    # Finding the number of observations\n",
    "    control_group_total_conversions = control_group.shape[0]\n",
    "    test_group_total_conversions = test_group.shape[0]\n",
    "\n",
    "    conversions = [control_conversions, test_conversions]\n",
    "    totals = [control_group_total_conversions, test_group_total_conversions]\n",
    "    \n",
    "    # Perform Z-test\n",
    "    z_stat, p_value = proportions_ztest(conversions, totals)\n",
    "    \n",
    "    result = []  # empty list for results based on p_value\n",
    "    if p_value < alpha_:\n",
    "        result.append(H1)\n",
    "    elif p_value >= alpha_:\n",
    "        result.append(H0)\n",
    "    \n",
    "    # Return the results\n",
    "    if sample == 'general':\n",
    "        return pd.DataFrame({\n",
    "            'sample': ['general_population'],\n",
    "            'z_stat': [z_stat],\n",
    "            'p_value': [p_value],\n",
    "            'A/B test result': result\n",
    "        })\n",
    "    elif sample == 'sample':\n",
    "        return pd.DataFrame({\n",
    "            'sample': [data['country'].unique()[0]],\n",
    "            'z_stat': [z_stat],\n",
    "            'p_value': [p_value],\n",
    "            'A/B test result': result\n",
    "        })\n",
    "    else:\n",
    "        raise ValueError(\"Sample should be 'general' or 'sample'\")\n",
    "\n",
    "general_result = ztest(data=df_clear, sample='general') # Test for all data\n",
    "\n",
    "results = []\n",
    "for s in samples:  # Tests for samples\n",
    "    r = ztest(data=s, sample='sample')\n",
    "    results.append(r)\n",
    "\n",
    "results.append(general_result)  # Combine all results\n",
    "\n",
    "# Convert list to DataFrame and display the result\n",
    "all_results = pd.concat([j for j in results], axis=0)\n",
    "all_results\n"
   ]
  },
  {
   "cell_type": "markdown",
   "metadata": {},
   "source": [
    "**Conclusion**"
   ]
  },
  {
   "cell_type": "markdown",
   "metadata": {},
   "source": [
    "There is no statistical difference between the conversion rates of the old and new pages, so we can either continue using the old page or keep working to improve the new one."
   ]
  }
 ],
 "metadata": {
  "kernelspec": {
   "display_name": "env",
   "language": "python",
   "name": "python3"
  },
  "language_info": {
   "codemirror_mode": {
    "name": "ipython",
    "version": 3
   },
   "file_extension": ".py",
   "mimetype": "text/x-python",
   "name": "python",
   "nbconvert_exporter": "python",
   "pygments_lexer": "ipython3",
   "version": "3.12.3"
  }
 },
 "nbformat": 4,
 "nbformat_minor": 2
}
